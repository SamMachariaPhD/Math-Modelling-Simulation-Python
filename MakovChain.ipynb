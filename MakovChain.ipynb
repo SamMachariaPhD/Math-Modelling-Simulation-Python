{
 "cells": [
  {
   "cell_type": "markdown",
   "metadata": {},
   "source": [
    "Two engineers made three fried-chips-making machines and started a hotel business in town. They currently have three employees operating the machines, taking about ten minutes to serve each customer. Other customers can wait in the waiting space, accommodating fifteen customers. On average, they receive more than twenty-one customers every hour. They have noticed that they cannot meet the increasing demand. Whenever there is no space in the waiting room, customers prefer to leave rather than wait outside. The engineers are considering making more space for waiting or adding a fried-chip-making machine. Your task is to model this situation and advise."
   ]
  },
  {
   "cell_type": "code",
   "execution_count": null,
   "metadata": {},
   "outputs": [],
   "source": [
    "# no customers: set = {0}\n",
    "# full customers: set = {0,1,2,3,...,18} 3 are being served and 15 are waiting \n",
    "# 21 customers/hour increase the state\n",
    "# 18 customer/hour decrease the state  \n",
    "\n"
   ]
  },
  {
   "cell_type": "code",
   "execution_count": null,
   "metadata": {},
   "outputs": [],
   "source": []
  }
 ],
 "metadata": {
  "language_info": {
   "name": "python"
  },
  "orig_nbformat": 4
 },
 "nbformat": 4,
 "nbformat_minor": 2
}
