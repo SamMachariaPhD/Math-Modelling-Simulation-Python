{
 "cells": [
  {
   "cell_type": "markdown",
   "id": "documented-turkish",
   "metadata": {},
   "source": [
    "# Navier Stokes - using python\n",
    "\n",
    "## Useful links \n",
    "\n",
    "* https://lorenabarba.com/blog/cfd-python-12-steps-to-navier-stokes/\n",
    "* https://towardsdatascience.com/computational-fluid-dynamics-using-python-modeling-laminar-flow-272dad1ebec \n",
    "* https://levelup.gitconnected.com/create-your-own-finite-volume-fluid-simulation-with-python-8f9eab0b8305 \n",
    "\n",
    "## Step 1: 1-D Linear Convection\n",
    "\n",
    "1-D linear convection is governed by the following equation. It represents the propagation of an initial wave with speed $c$ without change of shape.\n",
    "\n",
    "$ \\frac{\\delta u}{\\delta t} + c \\frac{\\delta u}{\\delta x} = 0 $\n",
    "\n",
    "Initial condition and the solution: \n",
    "\n",
    "$u(x,0) = u_0(x)$\n",
    "\n",
    "$u(x,t) = u_0(x-ct)$"
   ]
  },
  {
   "cell_type": "code",
   "execution_count": null,
   "id": "sealed-sharing",
   "metadata": {},
   "outputs": [],
   "source": []
  }
 ],
 "metadata": {
  "kernelspec": {
   "display_name": "Python 3",
   "language": "python",
   "name": "python3"
  },
  "language_info": {
   "codemirror_mode": {
    "name": "ipython",
    "version": 3
   },
   "file_extension": ".py",
   "mimetype": "text/x-python",
   "name": "python",
   "nbconvert_exporter": "python",
   "pygments_lexer": "ipython3",
   "version": "3.7.3"
  }
 },
 "nbformat": 4,
 "nbformat_minor": 5
}
