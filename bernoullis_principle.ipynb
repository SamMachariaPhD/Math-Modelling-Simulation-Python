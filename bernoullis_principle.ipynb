{
 "cells": [
  {
   "cell_type": "code",
   "execution_count": 1,
   "metadata": {},
   "outputs": [],
   "source": [
    "import numpy as np\n",
    "import matplotlib.pyplot as plt "
   ]
  },
  {
   "cell_type": "markdown",
   "metadata": {},
   "source": [
    "$P+\\dfrac{1}{2}\\rho v^2+\\rho gh=\\text{Constant}$\n",
    "\n",
    "where,\n",
    "\n",
    "* P is the Pressure exerted by the fluid,\n",
    "* $\\rho$ is the Density of the fluid,\n",
    "* v is the Velocity of the fluid, \n",
    "* g is the Acceleration due to gravity and \n",
    "* h is the Height."
   ]
  },
  {
   "cell_type": "code",
   "execution_count": null,
   "metadata": {},
   "outputs": [],
   "source": [
    "P = 101325 #Pa, https://en.wikipedia.org/wiki/Atmospheric_pressure\n",
    "rho = 1.204 #kg/m3, https://en.wikipedia.org/wiki/Density_of_air"
   ]
  }
 ],
 "metadata": {
  "kernelspec": {
   "display_name": "Python 3",
   "language": "python",
   "name": "python3"
  },
  "language_info": {
   "codemirror_mode": {
    "name": "ipython",
    "version": 3
   },
   "file_extension": ".py",
   "mimetype": "text/x-python",
   "name": "python",
   "nbconvert_exporter": "python",
   "pygments_lexer": "ipython3",
   "version": "3.5.2"
  }
 },
 "nbformat": 4,
 "nbformat_minor": 2
}
