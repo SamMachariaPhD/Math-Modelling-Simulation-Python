{
 "cells": [
  {
   "cell_type": "code",
   "execution_count": 1,
   "metadata": {},
   "outputs": [],
   "source": [
    "import numpy as np\n",
    "import matplotlib.pyplot as plt "
   ]
  },
  {
   "cell_type": "markdown",
   "metadata": {},
   "source": [
    "$P+\\dfrac{1}{2}\\rho v^2+\\rho gh=\\text{Constant (k)}$\n",
    "\n",
    "where,\n",
    "\n",
    "* P is the Pressure exerted by the fluid,\n",
    "* $\\rho$ is the Density of the fluid,\n",
    "* v is the Velocity of the fluid, \n",
    "* g is the Acceleration due to gravity and \n",
    "* h is the Height.\n",
    "\n",
    "$\\therefore$\n",
    "\n",
    "$v = \\sqrt{ (k-P-h\\rho g)\\frac{2}{\\rho} }$"
   ]
  },
  {
   "cell_type": "code",
   "execution_count": 2,
   "metadata": {},
   "outputs": [],
   "source": [
    "P1 = 101325 # Pa, https://en.wikipedia.org/wiki/Atmospheric_pressure\n",
    "rho1 = 1.204 # kg/m3, https://en.wikipedia.org/wiki/Density_of_air\n",
    "v1 = 1.5 # m/s\n",
    "h1 = 10 # m \n",
    "g1 = 9.8 # m/s^2\n",
    "\n",
    "P2 = 100000 #10848\n",
    "h2 = 20 "
   ]
  },
  {
   "cell_type": "code",
   "execution_count": 3,
   "metadata": {},
   "outputs": [],
   "source": [
    "def bernoulli(P,rho,v,h,g):\n",
    "    bp = P+(0.5*rho*(v**2))+(h*rho*g)\n",
    "    return bp\n",
    "\n",
    "def vel(k,P,h,rho,g):\n",
    "    v = np.sqrt( (k-P-(h*rho*g)) * (2/rho) )\n",
    "    return v"
   ]
  },
  {
   "cell_type": "code",
   "execution_count": 4,
   "metadata": {},
   "outputs": [
    {
     "name": "stdout",
     "output_type": "stream",
     "text": [
      "P1 = 101325.00 vel 1 = 1.5000\n",
      "P2 = 100000.00 vel 2 = 44.8023\n"
     ]
    }
   ],
   "source": [
    "k = bernoulli(P1,rho1,v1,h1,g1) # constant \n",
    "\n",
    "print(\"P1 = %.2f\" %P1, \"vel 1 = %.4f\" %v1)\n",
    "\n",
    "print(\"P2 = %.2f\" %P2, \"vel 2 = %.4f\" %vel(k,P2,h2,rho1,g1))"
   ]
  },
  {
   "cell_type": "code",
   "execution_count": null,
   "metadata": {},
   "outputs": [],
   "source": []
  }
 ],
 "metadata": {
  "kernelspec": {
   "display_name": "Python 3",
   "language": "python",
   "name": "python3"
  },
  "language_info": {
   "codemirror_mode": {
    "name": "ipython",
    "version": 3
   },
   "file_extension": ".py",
   "mimetype": "text/x-python",
   "name": "python",
   "nbconvert_exporter": "python",
   "pygments_lexer": "ipython3",
   "version": "3.5.2"
  }
 },
 "nbformat": 4,
 "nbformat_minor": 2
}
