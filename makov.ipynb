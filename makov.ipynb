{
 "cells": [
  {
   "cell_type": "markdown",
   "id": "banner-landscape",
   "metadata": {},
   "source": [
    "## Stochastic Process \n",
    "\n",
    "This involves a collection of random variables. "
   ]
  },
  {
   "cell_type": "markdown",
   "id": "interim-specification",
   "metadata": {},
   "source": [
    "### Random Process\n",
    "\n",
    "- It is better to think of a random process interms of a function rather than variable. \n",
    "- In a random function, say, random(x), x is the sample space of random outcomes that are possible after performing a certain stochastic process such as tossing a fair coin. \n",
    "- Let's say we are tossing a pair of coins. The outcome does not have to be a number. It can be heads or tails. However, the number of possible outcomes lie in a certain range, say, range(x). \n",
    "\n",
    "$ random(x) = \n",
    "\\begin{cases}\n",
    "  Coin 1 &= [H, H, T, T]\\\\    \n",
    "  Coin 2 &= [H, T, H, T]    \n",
    "\\end{cases}\n",
    "\\\\\n",
    "range(x) = [1, 2, 3, 4] \n",
    "$\n",
    "\n",
    "| random(x) |        | range(x) |\n",
    "|:---------:|:------:|:--------:|\n",
    "| coin 1    | coin 2 |          |\n",
    "|     H     |    H   |     1    |\n",
    "|     H     |    T   |     2    |\n",
    "|     T     |    H   |     3    |\n",
    "|     T     |    T   |     4    |\n",
    "\n",
    "- x outputs an outcome from range(x) using a probability distribution that represents a likelihoods of occurences of events within the sample space. \n",
    "- In the above coin tossing experiment, sum of the probabilities of all outcomes should add up to 1 because a coin toss will always yield some output.\n",
    "\n",
    "$P_{\\text{1 or 2 or 3 or 4}} = P_1 + P_2 + P_3 + P_4 = 1$\n",
    "\n",
    "#### Discrete and Continuous Random Variable\n",
    "\n",
    "- x can be discrete or continuous.\n",
    "\n",
    "##### Discrete random variable\n",
    "\n",
    "- A **discrete random variable** can take a distict or separate values. \n",
    "- Discrete random variable is **countably infinite** \n",
    "\n",
    "- A coin toss \n",
    "\n",
    "$ x = \n",
    "\\begin{cases}\n",
    "  Head &= [1]\\\\    \n",
    "  Tail &= [0]    \n",
    "\\end{cases}\n",
    "$\n",
    "\n",
    "- The year that a random student in school was born \n",
    "- The number of mosquitos born yesterday on earth  \n",
    "\n",
    "- Winning time of random athrets to the nearest 2 decimals \n",
    "\n",
    "- The number of cars passing at a certain junction at a certain time \n",
    "\n",
    "- A discrete random variable can be countable finite or approach infinite values. At least you can list a few specific values. \n",
    "\n",
    "- The probability distribution of a discrete random variable is called **Probability Mass Function (PMF)**\n",
    "\n",
    "##### Continuous random variable\n",
    "\n",
    "- A **continuous random variable** can take any value in an interval. \n",
    "- Continuous random variable is **uncountably infinite** \n",
    "\n",
    "$ x = \n",
    "\\begin{cases}\n",
    "  \\textbf{Exact mass}\\text{ of random organisms on earth}    \n",
    "\\end{cases}\n",
    "$\n",
    "\n",
    "- Even if you could find a range of this mass, the exact mass of a certain organism at a given time could have several decimal points... \n",
    "\n",
    "- Precisely exact winning time of random athrets \n",
    "\n",
    "- Temperature of a random place in a year measured at a high precision \n",
    "\n",
    "- **A real world example of a true case of a continuous random variable is rare.**\n",
    "\n",
    "- A discrete random variable can be uncountable infinite values. You cannot list a few specific values. \n",
    "\n",
    "- The probability distribution of a continuous random variable is called **Probability Density Function (PDF)**\n",
    "\n",
    "\n",
    "- Each variable can take on a different value from a probability distribution. \n",
    "\n",
    "- A **random process** can be discrete or continuous depending on whether its member variables are discrete or continuous.\n"
   ]
  },
  {
   "cell_type": "markdown",
   "id": "vertical-devices",
   "metadata": {},
   "source": [
    "#### Gambler's Ruin \n",
    "\n",
    "A gambler has KES 500. They can only bet in increments of KES 100. They can only win or lose KES 100 per bet. They will keep gambling until either lost all their money (KES 0) or they win KES 1000. Simulate this gambling situation. \n",
    "\n",
    "$\\text{gambling outcome, } x = \n",
    "\\begin{cases}\n",
    "  \\text{Win KES 100 (P = 50%)} &= [+100] \\\\    \n",
    "  \\text{Lose KES 100 (P = 50%)} &= [-100]   \n",
    "\\end{cases}\n",
    "$"
   ]
  },
  {
   "cell_type": "code",
   "execution_count": 30,
   "id": "super-license",
   "metadata": {},
   "outputs": [],
   "source": [
    "import numpy as np\n",
    "import random \n",
    "import matplotlib.pyplot as plt \n",
    "\n",
    "def gamble():\n",
    "    start_money = 500\n",
    "    win_money = 1000\n",
    "    bet_size = 100\n",
    "    win_lose = 100\n",
    "    gambling_range = range(win_lose,win_money)\n",
    "    simul_gamble = []\n",
    "    while start_money in gambling_range:\n",
    "        win_lose = bet_size*random.randrange(-1, 2, step=2)\n",
    "        start_money += win_lose \n",
    "        simul_gamble.append(start_money)\n",
    "    return simul_gamble \n",
    "plt.plot(gamble(), marker = 'o')    "
   ]
  },
  {
   "cell_type": "code",
   "execution_count": 31,
   "id": "heavy-physics",
   "metadata": {},
   "outputs": [
    {
     "data": {
      "text/plain": [
       "[<matplotlib.lines.Line2D at 0x7fe8d383e0b8>]"
      ]
     },
     "execution_count": 31,
     "metadata": {},
     "output_type": "execute_result"
    },
    {
     "data": {
      "image/png": "[encoded data removed]",
      "text/plain": [
       "<Figure size 432x288 with 1 Axes>"
      ]
     },
     "metadata": {
      "needs_background": "light"
     },
     "output_type": "display_data"
    }
   ],
   "source": [
    "plt.plot(gamble(), marker = 'o')"
   ]
  },
  {
   "cell_type": "markdown",
   "id": "prescription-cocktail",
   "metadata": {},
   "source": [
    "### Poisson Process\n",
    "Also called poisson point process is a collection of points located randomly in space. \n",
    "\n",
    "Poisson process has the following properties:\n",
    "\n",
    "- It is made up of sequence of random variables \n",
    "- It is a discrete process \n",
    "- Constituent variables have a poisson distribution, given by PMF \n",
    "- Constituent variables have a identical distribution \n",
    "\n",
    "The probability of $k$ occurrences, $P_x(k)$, in unit time, given an average occurence rate of $\\lambda$ per unit time. \n",
    "\n",
    "$\n",
    "P_x(k) = \\frac{e^{-\\lambda} \\times \\lambda^k}{k!}\n",
    "$\n",
    "\n",
    "The sum of probabilities for all possible values of $k$ is always $1$. It is certain that one of the outcomes will materialize. \n",
    "\n",
    "$\n",
    "\\sum{_{k=0}^\\infty} P_x(k) = \\sum{_{k=0}^\\infty} \\frac{\\lambda^k \\times e^\\lambda}{k!} = 1\n",
    "$"
   ]
  },
  {
   "cell_type": "markdown",
   "id": "confused-examination",
   "metadata": {},
   "source": []
  },
  {
   "cell_type": "markdown",
   "id": "outer-broadway",
   "metadata": {},
   "source": [
    "### Brownian Process\n",
    "\n"
   ]
  },
  {
   "cell_type": "markdown",
   "id": "determined-straight",
   "metadata": {},
   "source": [
    "### Barnoullis Process\n",
    "\n"
   ]
  },
  {
   "cell_type": "markdown",
   "id": "appreciated-barcelona",
   "metadata": {},
   "source": [
    "## Makov Process \n",
    "\n",
    "The future evolution of the process depends only on the instant of observation of the system and not in the past.\n",
    "\n",
    "### Bar hopping\n",
    "\n",
    "There are 3 states:\n",
    " - Home \n",
    " - Bar \n",
    " - Back Home \n",
    "\n",
    "- You only have one bar you go to if you want to go out.\n",
    "- From state **Home** you can only go out. The first assumption is that you have to go out to be in a bar. \n",
    "- From the **Bar**, you can stay in the bar or go back home. \n",
    "- For each time step, you have 50% probability of going back home and 50% probability of staying. \n",
    "- When you are **Back Home**, the only thing that you could do is staying home. It means you won't go out again. \n"
   ]
  },
  {
   "cell_type": "code",
   "execution_count": 65,
   "id": "economic-pressing",
   "metadata": {},
   "outputs": [
    {
     "data": {
      "text/html": [
       "<div>\n",
       "<style scoped>\n",
       "    .dataframe tbody tr th:only-of-type {\n",
       "        vertical-align: middle;\n",
       "    }\n",
       "\n",
       "    .dataframe tbody tr th {\n",
       "        vertical-align: top;\n",
       "    }\n",
       "\n",
       "    .dataframe thead th {\n",
       "        text-align: right;\n",
       "    }\n",
       "</style>\n",
       "<table border=\"1\" class=\"dataframe\">\n",
       "  <thead>\n",
       "    <tr style=\"text-align: right;\">\n",
       "      <th></th>\n",
       "      <th>Home</th>\n",
       "      <th>Bar</th>\n",
       "      <th>Back Home</th>\n",
       "    </tr>\n",
       "  </thead>\n",
       "  <tbody>\n",
       "    <tr>\n",
       "      <th>Home</th>\n",
       "      <td>0.0</td>\n",
       "      <td>1.0</td>\n",
       "      <td>0.0</td>\n",
       "    </tr>\n",
       "    <tr>\n",
       "      <th>Bar</th>\n",
       "      <td>0.0</td>\n",
       "      <td>0.5</td>\n",
       "      <td>0.5</td>\n",
       "    </tr>\n",
       "    <tr>\n",
       "      <th>Back Home</th>\n",
       "      <td>0.0</td>\n",
       "      <td>0.0</td>\n",
       "      <td>1.0</td>\n",
       "    </tr>\n",
       "  </tbody>\n",
       "</table>\n",
       "</div>"
      ],
      "text/plain": [
       "           Home  Bar  Back Home\n",
       "Home        0.0  1.0        0.0\n",
       "Bar         0.0  0.5        0.5\n",
       "Back Home   0.0  0.0        1.0"
      ]
     },
     "execution_count": 65,
     "metadata": {},
     "output_type": "execute_result"
    }
   ],
   "source": [
    "import numpy as np\n",
    "import pandas as pd\n",
    "\n",
    "nodes = ['Home', 'Bar', 'Back Home']\n",
    "trans_matrix = np.array([[0,1,0],[0,0.5,0.5],[0,0,1]])\n",
    "pd.DataFrame(trans_matrix, columns=nodes, index=nodes)"
   ]
  },
  {
   "cell_type": "code",
   "execution_count": 66,
   "id": "accepted-wichita",
   "metadata": {},
   "outputs": [
    {
     "data": {
      "text/plain": [
       "3"
      ]
     },
     "execution_count": 66,
     "metadata": {},
     "output_type": "execute_result"
    }
   ],
   "source": [
    "len(nodes)"
   ]
  },
  {
   "cell_type": "code",
   "execution_count": 72,
   "id": "exclusive-celebrity",
   "metadata": {},
   "outputs": [
    {
     "data": {
      "text/plain": [
       "array([0, 1, 2])"
      ]
     },
     "execution_count": 72,
     "metadata": {},
     "output_type": "execute_result"
    }
   ],
   "source": [
    "np.arange(0,len(nodes),1)"
   ]
  },
  {
   "cell_type": "code",
   "execution_count": 70,
   "id": "closed-physiology",
   "metadata": {},
   "outputs": [
    {
     "data": {
      "text/plain": [
       "1"
      ]
     },
     "execution_count": 70,
     "metadata": {},
     "output_type": "execute_result"
    }
   ],
   "source": [
    "nodes.index('Bar')"
   ]
  },
  {
   "cell_type": "code",
   "execution_count": 74,
   "id": "cultural-retrieval",
   "metadata": {},
   "outputs": [
    {
     "data": {
      "text/plain": [
       "'Bar'"
      ]
     },
     "execution_count": 74,
     "metadata": {},
     "output_type": "execute_result"
    }
   ],
   "source": [
    "nodes[1]"
   ]
  },
  {
   "cell_type": "code",
   "execution_count": 71,
   "id": "prompt-spanking",
   "metadata": {},
   "outputs": [
    {
     "data": {
      "text/plain": [
       "array([0. , 0.5, 0.5])"
      ]
     },
     "execution_count": 71,
     "metadata": {},
     "output_type": "execute_result"
    }
   ],
   "source": [
    "trans_matrix[1]"
   ]
  },
  {
   "cell_type": "code",
   "execution_count": 84,
   "id": "funny-washer",
   "metadata": {},
   "outputs": [
    {
     "name": "stdout",
     "output_type": "stream",
     "text": [
      "1\n",
      "1\n",
      "1\n",
      "1\n",
      "2\n",
      "2\n",
      "2\n",
      "2\n",
      "1\n",
      "1\n"
     ]
    }
   ],
   "source": [
    "for n in range(10):\n",
    "    print(np.random.choice(np.arange(0,len(nodes),1), p=trans_matrix[1]))"
   ]
  },
  {
   "cell_type": "code",
   "execution_count": 75,
   "id": "incorporate-junior",
   "metadata": {},
   "outputs": [
    {
     "data": {
      "text/plain": [
       "'Back Home'"
      ]
     },
     "execution_count": 75,
     "metadata": {},
     "output_type": "execute_result"
    }
   ],
   "source": [
    "nodes[2]"
   ]
  },
  {
   "cell_type": "code",
   "execution_count": null,
   "id": "motivated-chrome",
   "metadata": {},
   "outputs": [],
   "source": [
    "def state_change(start_state, nodes, trans_matrix):\n",
    "    index_list = "
   ]
  },
  {
   "cell_type": "code",
   "execution_count": null,
   "id": "joint-desire",
   "metadata": {},
   "outputs": [],
   "source": [
    "def bar_hop(minute, history=True):\n",
    "    start_state = ['Home']\n",
    "    for i in range(minute)"
   ]
  },
  {
   "cell_type": "markdown",
   "id": "aboriginal-empty",
   "metadata": {},
   "source": [
    "## 2 Shirts \n",
    "\n",
    "A 2 state markov chain. Assume you have 2 shirts, white and blue. \n",
    "The state space, $S = {W,B}$.\n",
    "- The probability of you wearing a white shirt and continue wearing the white shirt is 0.7.\n",
    "- The probability of changing the white shirt to blue shirt is 0.3.\n",
    "- Once you're wearing a blue shirt, the probability of you continue wearing the blue shirt is 0.4.\n",
    "- The probability of changing the blue shirt to white shirt is 0.6.\n",
    "\n",
    "$\n",
    "\\text{2 Shirts} = \n",
    "\\begin{cases}\n",
    "P(W|W) &= 0.7\\\\\n",
    "P(B|W) &= 0.3\\\\\n",
    "P(W|B) &= 0.6\\\\\n",
    "P(B|B) &= 0.4\n",
    "\\end{cases}\n",
    "$"
   ]
  },
  {
   "cell_type": "code",
   "execution_count": 42,
   "id": "split-defensive",
   "metadata": {},
   "outputs": [
    {
     "data": {
      "text/html": [
       "<div>\n",
       "<style scoped>\n",
       "    .dataframe tbody tr th:only-of-type {\n",
       "        vertical-align: middle;\n",
       "    }\n",
       "\n",
       "    .dataframe tbody tr th {\n",
       "        vertical-align: top;\n",
       "    }\n",
       "\n",
       "    .dataframe thead th {\n",
       "        text-align: right;\n",
       "    }\n",
       "</style>\n",
       "<table border=\"1\" class=\"dataframe\">\n",
       "  <thead>\n",
       "    <tr style=\"text-align: right;\">\n",
       "      <th></th>\n",
       "      <th>White</th>\n",
       "      <th>Blue</th>\n",
       "    </tr>\n",
       "  </thead>\n",
       "  <tbody>\n",
       "    <tr>\n",
       "      <th>White</th>\n",
       "      <td>0.7</td>\n",
       "      <td>0.3</td>\n",
       "    </tr>\n",
       "    <tr>\n",
       "      <th>Blue</th>\n",
       "      <td>0.6</td>\n",
       "      <td>0.4</td>\n",
       "    </tr>\n",
       "  </tbody>\n",
       "</table>\n",
       "</div>"
      ],
      "text/plain": [
       "       White  Blue\n",
       "White    0.7   0.3\n",
       "Blue     0.6   0.4"
      ]
     },
     "execution_count": 42,
     "metadata": {},
     "output_type": "execute_result"
    }
   ],
   "source": [
    "nodes = ['White', 'Blue']\n",
    "trans_matrix = np.array([[0.7,0.3],[0.6,0.4]])\n",
    "pd.DataFrame(trans_matrix, columns=nodes, index=nodes)"
   ]
  },
  {
   "cell_type": "markdown",
   "id": "dirty-wings",
   "metadata": {},
   "source": [
    "- Suppose you repeat this for several days. Let's say today is Monday and you've already decided that you'll wear a white shirt. $S = {1,0}$\n",
    "- What is the probability of you wearing a white or blue shirt on Tuesday through Friday?\n",
    "\n",
    "(i) At the end of Monday: $Mon = S \\times \\text{trans_matrix}$\n",
    "\n",
    "(ii) At the end of Tuesday: $Tue = Mon \\times \\text{trans_matrix}$\n",
    "\n",
    "(iii) At the end of Wednesday: $Wed = Tue \\times \\text{trans_matrix}$"
   ]
  },
  {
   "cell_type": "code",
   "execution_count": 51,
   "id": "broad-standing",
   "metadata": {},
   "outputs": [
    {
     "data": {
      "text/plain": [
       "array([[0.7, 0.3]])"
      ]
     },
     "execution_count": 51,
     "metadata": {},
     "output_type": "execute_result"
    }
   ],
   "source": [
    "# NB: https://www.digitalocean.com/community/tutorials/numpy-matrix-multiplication \n",
    "S = np.array([[1,0]])\n",
    "Mon = np.matmul(S,trans_matrix)\n",
    "Mon "
   ]
  },
  {
   "cell_type": "code",
   "execution_count": 52,
   "id": "talented-imaging",
   "metadata": {},
   "outputs": [
    {
     "data": {
      "text/plain": [
       "array([[0.67, 0.33]])"
      ]
     },
     "execution_count": 52,
     "metadata": {},
     "output_type": "execute_result"
    }
   ],
   "source": [
    "Tue = np.matmul(Mon,trans_matrix)\n",
    "Tue"
   ]
  },
  {
   "cell_type": "code",
   "execution_count": null,
   "id": "banner-sally",
   "metadata": {},
   "outputs": [],
   "source": []
  }
 ],
 "metadata": {
  "kernelspec": {
   "display_name": "Python 3",
   "language": "python",
   "name": "python3"
  },
  "language_info": {
   "codemirror_mode": {
    "name": "ipython",
    "version": 3
   },
   "file_extension": ".py",
   "mimetype": "text/x-python",
   "name": "python",
   "nbconvert_exporter": "python",
   "pygments_lexer": "ipython3",
   "version": "3.7.3"
  }
 },
 "nbformat": 4,
 "nbformat_minor": 5
}
