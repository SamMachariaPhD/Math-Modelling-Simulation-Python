{
 "cells": [
  {
   "cell_type": "markdown",
   "id": "designing-travel",
   "metadata": {},
   "source": [
    "## 2 Shirts \n",
    "\n",
    "A 2 state markov chain. Assume you have 2 shirts, white and blue. \n",
    "The state space, $S = {W,B}$.\n",
    "- The probability of you wearing a white shirt and continue wearing the white shirt is 0.7.\n",
    "- The probability of changing the white shirt to blue shirt is 0.3.\n",
    "- Once you're wearing a blue shirt, the probability of you continue wearing the blue shirt is 0.4.\n",
    "- The probability of changing the blue shirt to white shirt is 0.6.\n",
    "\n",
    "$\n",
    "\\text{2 Shirts} = \n",
    "\\begin{cases}\n",
    "P(W|W) &= 0.7\\\\\n",
    "P(B|W) &= 0.3\\\\\n",
    "P(W|B) &= 0.6\\\\\n",
    "P(B|B) &= 0.4\n",
    "\\end{cases}\n",
    "$"
   ]
  },
  {
   "cell_type": "markdown",
   "id": "appropriate-evening",
   "metadata": {},
   "source": [
    "### Gambler's Ruin \n",
    "\n",
    "A gambler has KES 500. They can only bet in increments of KES 100. They can only win or lose KES 100 per bet. \n",
    "They will keep gambling until either lost all their money (KES 0) or they win KES 1000. Simulate this gambling situation. \n",
    "\n",
    "$\\text{gambling outcome, } x = \n",
    "\\begin{cases}\n",
    "  \\text{Win KES 100 (P = 50%)} &= [+100] \\\\    \n",
    "  \\text{Lose KES 100 (P = 50%)} &= [-100]   \n",
    "\\end{cases}\n",
    "$"
   ]
  },
  {
   "cell_type": "markdown",
   "id": "genuine-stanley",
   "metadata": {},
   "source": [
    "### Bar hopping\n",
    "\n",
    "A 3 states markov:\n",
    " - Home \n",
    " - Bar \n",
    " - Back Home \n",
    "\n",
    "- You only have one bar you go to if you want to go out.\n",
    "- From state **Home** you can only go out. The first assumption is that you have to go out to be in a bar. \n",
    "- From the **Bar**, you can stay in the bar or go back home. \n",
    "- For each time step, you have 50% probability of going back home and 50% probability of staying. \n",
    "- When you are **Back Home**, the only thing that you could do is staying home. It means you won't go out again. "
   ]
  },
  {
   "cell_type": "code",
   "execution_count": null,
   "id": "popular-theme",
   "metadata": {},
   "outputs": [],
   "source": []
  }
 ],
 "metadata": {
  "kernelspec": {
   "display_name": "Python 3",
   "language": "python",
   "name": "python3"
  },
  "language_info": {
   "codemirror_mode": {
    "name": "ipython",
    "version": 3
   },
   "file_extension": ".py",
   "mimetype": "text/x-python",
   "name": "python",
   "nbconvert_exporter": "python",
   "pygments_lexer": "ipython3",
   "version": "3.7.3"
  }
 },
 "nbformat": 4,
 "nbformat_minor": 5
}
