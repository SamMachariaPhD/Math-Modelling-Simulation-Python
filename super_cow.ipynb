{
 "cells": [
  {
   "cell_type": "code",
   "execution_count": null,
   "id": "korean-pickup",
   "metadata": {},
   "outputs": [],
   "source": [
    "# import the libraries you intend to use\n",
    "import numpy as np"
   ]
  },
  {
   "cell_type": "code",
   "execution_count": null,
   "id": "handed-natural",
   "metadata": {},
   "outputs": [],
   "source": [
    "# translate the main equation into a function\n",
    "def cow_weight(r):\n",
    "    cw = rho * ((4*np.pi)/3)*r**3 * g\n",
    "    return cw\n",
    "\n",
    "# define the variables\n",
    "rho = 1850 # kg/m^3 bone?[https://physics.nist.gov/cgi-bin/Star/compos.pl?matno=119] (assumed constant)\n",
    "g = 9.8 # m/m^2 (assumed constant) \n",
    "r1 = 0.6 # m (normal cow radius)\n",
    "r2 = 3*r1 # m (super cow radius - thrice)"
   ]
  },
  {
   "cell_type": "code",
   "execution_count": null,
   "id": "searching-coating",
   "metadata": {},
   "outputs": [],
   "source": [
    "# get answers to your questions\n",
    "Wnc = cow_weight(r1)\n",
    "Wsc = cow_weight(r2)\n",
    "ratio = Wsc/Wnc\n",
    "\n",
    "# print answers (IN SCIENTIFIC NOTATION!) \n",
    "print(\"Normal Cow Weight ~\\t %.2E kg.m/s^2\" %Wnc) # (= N) confirm units\n",
    "print(\"Super Cow Weight ~\\t %.2E N\" %Wsc)\n",
    "print(\"Super Cow Weighs ~%.2E more than the Normal Cow\" %ratio)"
   ]
  }
 ],
 "metadata": {
  "kernelspec": {
   "display_name": "Python 3",
   "language": "python",
   "name": "python3"
  },
  "language_info": {
   "codemirror_mode": {
    "name": "ipython",
    "version": 3
   },
   "file_extension": ".py",
   "mimetype": "text/x-python",
   "name": "python",
   "nbconvert_exporter": "python",
   "pygments_lexer": "ipython3",
   "version": "3.7.3"
  }
 },
 "nbformat": 4,
 "nbformat_minor": 5
}
